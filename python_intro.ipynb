{
  "nbformat": 4,
  "nbformat_minor": 0,
  "metadata": {
    "colab": {
      "provenance": [],
      "authorship_tag": "ABX9TyNJSpa3ObMNqMyVlMBNe0we",
      "include_colab_link": true
    },
    "kernelspec": {
      "name": "python3",
      "display_name": "Python 3"
    },
    "language_info": {
      "name": "python"
    }
  },
  "cells": [
    {
      "cell_type": "markdown",
      "metadata": {
        "id": "view-in-github",
        "colab_type": "text"
      },
      "source": [
        "<a href=\"https://colab.research.google.com/github/khanzjob/uguntu/blob/main/python_intro.ipynb\" target=\"_parent\"><img src=\"https://colab.research.google.com/assets/colab-badge.svg\" alt=\"Open In Colab\"/></a>"
      ]
    },
    {
      "cell_type": "code",
      "execution_count": 8,
      "metadata": {
        "colab": {
          "base_uri": "https://localhost:8080/"
        },
        "id": "BKU_uAJ65r8q",
        "outputId": "dbf41585-4f94-4606-abc2-1780478bf575"
      },
      "outputs": [
        {
          "output_type": "stream",
          "name": "stdout",
          "text": [
            "0\n",
            "1\n",
            "2\n",
            "3\n",
            "4\n",
            "5\n",
            "6\n",
            "7\n",
            "8\n",
            "9\n"
          ]
        }
      ],
      "source": [
        "#Use range(10) to go from 0 to 9\n",
        "for i in range(10):\n",
        "  print(i)"
      ]
    },
    {
      "cell_type": "code",
      "source": [
        "#Use range(10, 100, 5) to start from 10 and move with increments of 5\n",
        "\n",
        "for i in range(10,100,5):\n",
        "  print(i)\n",
        "\n",
        "  #Use range(7, 44, 7) to start from 7 and move with increments of 7\n",
        "\n",
        "  # for x in range(7,44,7):\n",
        "  # print(x)"
      ],
      "metadata": {
        "colab": {
          "base_uri": "https://localhost:8080/"
        },
        "id": "xkVhiaxd7Zqv",
        "outputId": "9470e579-b1ba-4916-e564-d0328a43dc2d"
      },
      "execution_count": 11,
      "outputs": [
        {
          "output_type": "stream",
          "name": "stdout",
          "text": [
            "10\n",
            "15\n",
            "20\n",
            "25\n",
            "30\n",
            "35\n",
            "40\n",
            "45\n",
            "50\n",
            "55\n",
            "60\n",
            "65\n",
            "70\n",
            "75\n",
            "80\n",
            "85\n",
            "90\n",
            "95\n"
          ]
        }
      ]
    },
    {
      "cell_type": "code",
      "source": [
        "#Breaking out from the loop with break:\n",
        "for x in range(10):\n",
        "   if x <= 5:\n",
        "        continue\n",
        "   print(x)\n",
        "\n"
      ],
      "metadata": {
        "colab": {
          "base_uri": "https://localhost:8080/"
        },
        "id": "M0iTRoUa9MQA",
        "outputId": "c2cf54dc-7006-4a15-d5e3-e8d24a4a7e09"
      },
      "execution_count": 35,
      "outputs": [
        {
          "output_type": "stream",
          "name": "stdout",
          "text": [
            "6\n",
            "7\n",
            "8\n",
            "9\n"
          ]
        }
      ]
    },
    {
      "cell_type": "code",
      "source": [
        "#Breaking out from the loop with continue:\n",
        "for x in range(20):\n",
        "   if x <= 16:\n",
        "         continue\n",
        "   print(x)\n",
        ""
      ],
      "metadata": {
        "colab": {
          "base_uri": "https://localhost:8080/"
        },
        "id": "ZPap2lVUEeLY",
        "outputId": "3c68a55f-33f6-4427-e2fd-dbf474b95e69"
      },
      "execution_count": 45,
      "outputs": [
        {
          "output_type": "stream",
          "name": "stdout",
          "text": [
            "17\n",
            "18\n",
            "19\n"
          ]
        }
      ]
    },
    {
      "cell_type": "code",
      "source": [
        "#While loop: run while the condition is True\n",
        "cnt = 0\n",
        "while cnt <= 5:\n",
        "  print(cnt)\n",
        "  cnt = cnt + 1"
      ],
      "metadata": {
        "colab": {
          "base_uri": "https://localhost:8080/"
        },
        "id": "J8iVFv3TGBsZ",
        "outputId": "244811b4-44d6-4bd9-ef0e-010866434268"
      },
      "execution_count": 49,
      "outputs": [
        {
          "output_type": "stream",
          "name": "stdout",
          "text": [
            "0\n",
            "1\n",
            "2\n",
            "3\n",
            "4\n",
            "5\n"
          ]
        }
      ]
    },
    {
      "cell_type": "code",
      "source": [
        "x = 10\n",
        "while x >= 3:\n",
        "    print(x)\n",
        "    x -=1\n"
      ],
      "metadata": {
        "colab": {
          "base_uri": "https://localhost:8080/"
        },
        "id": "8lmPBKx5OtS6",
        "outputId": "b0363126-1d04-4523-fc8f-dea278a9def2"
      },
      "execution_count": 60,
      "outputs": [
        {
          "output_type": "stream",
          "name": "stdout",
          "text": [
            "10\n",
            "9\n",
            "8\n",
            "7\n",
            "6\n",
            "5\n",
            "4\n",
            "3\n"
          ]
        }
      ]
    },
    {
      "cell_type": "code",
      "source": [
        "#Write a Python program using a while loop that calculates the sum of all even numbers from 1 to 100. Print the sum after the loop finishes.\n",
        "\n",
        "for x in range(1,100):\n",
        "  #if x % 2 == 0:\n",
        "    print(x)\n"
      ],
      "metadata": {
        "colab": {
          "base_uri": "https://localhost:8080/"
        },
        "collapsed": true,
        "id": "OiQChIU5SNOn",
        "outputId": "7e1fa829-f0cd-4348-8a8c-1f0866a39c3b"
      },
      "execution_count": 77,
      "outputs": [
        {
          "output_type": "stream",
          "name": "stdout",
          "text": [
            "1\n",
            "2\n",
            "3\n",
            "4\n",
            "5\n",
            "6\n",
            "7\n",
            "8\n",
            "9\n",
            "10\n",
            "11\n",
            "12\n",
            "13\n",
            "14\n",
            "15\n",
            "16\n",
            "17\n",
            "18\n",
            "19\n",
            "20\n",
            "21\n",
            "22\n",
            "23\n",
            "24\n",
            "25\n",
            "26\n",
            "27\n",
            "28\n",
            "29\n",
            "30\n",
            "31\n",
            "32\n",
            "33\n",
            "34\n",
            "35\n",
            "36\n",
            "37\n",
            "38\n",
            "39\n",
            "40\n",
            "41\n",
            "42\n",
            "43\n",
            "44\n",
            "45\n",
            "46\n",
            "47\n",
            "48\n",
            "49\n",
            "50\n",
            "51\n",
            "52\n",
            "53\n",
            "54\n",
            "55\n",
            "56\n",
            "57\n",
            "58\n",
            "59\n",
            "60\n",
            "61\n",
            "62\n",
            "63\n",
            "64\n",
            "65\n",
            "66\n",
            "67\n",
            "68\n",
            "69\n",
            "70\n",
            "71\n",
            "72\n",
            "73\n",
            "74\n",
            "75\n",
            "76\n",
            "77\n",
            "78\n",
            "79\n",
            "80\n",
            "81\n",
            "82\n",
            "83\n",
            "84\n",
            "85\n",
            "86\n",
            "87\n",
            "88\n",
            "89\n",
            "90\n",
            "91\n",
            "92\n",
            "93\n",
            "94\n",
            "95\n",
            "96\n",
            "97\n",
            "98\n",
            "99\n"
          ]
        }
      ]
    },
    {
      "cell_type": "code",
      "source": [
        "# prompt: c = a.append(33)\n",
        "# a[3]=c\n",
        "# print(a)\n",
        "\n",
        "a = [1, 2, 3]\n",
        "c = a.append(33)\n",
        "a[3] = c\n",
        "print(a)\n"
      ],
      "metadata": {
        "colab": {
          "base_uri": "https://localhost:8080/"
        },
        "id": "fDXPzUV1WWd6",
        "outputId": "faca810c-4e78-475e-feee-09a6f3bcf3b1"
      },
      "execution_count": 82,
      "outputs": [
        {
          "output_type": "stream",
          "name": "stdout",
          "text": [
            "6\n"
          ]
        }
      ]
    },
    {
      "cell_type": "code",
      "source": [
        "#changing numbers in a list\n",
        "a[4] = -1\n",
        "print(a)"
      ],
      "metadata": {
        "colab": {
          "base_uri": "https://localhost:8080/"
        },
        "id": "vg6fWWYTXyuf",
        "outputId": "281e77e0-bab1-4791-a63f-70e02bb4ee7a"
      },
      "execution_count": 84,
      "outputs": [
        {
          "output_type": "stream",
          "name": "stdout",
          "text": [
            "[1, 2, 3, 4, -1, 6, 0]\n"
          ]
        }
      ]
    },
    {
      "cell_type": "code",
      "source": [
        "#Appending numbers in the list\n",
        "a.append(11)\n",
        "print(a)\n"
      ],
      "metadata": {
        "colab": {
          "base_uri": "https://localhost:8080/"
        },
        "id": "FZRPwoB1YH_q",
        "outputId": "96602027-9f0c-4549-a7bb-e45984fb4aa2"
      },
      "execution_count": 93,
      "outputs": [
        {
          "output_type": "stream",
          "name": "stdout",
          "text": [
            "[1, 2, 3, None, -1, 6, 0, 11, 11, 33, 33, 33, 11]\n"
          ]
        }
      ]
    },
    {
      "cell_type": "code",
      "source": [
        "#iterating through the list\n",
        "a=[1,2,3,4]\n",
        "print(\"the length of number is \" + str(len(a)))\n",
        "for i in a:\n",
        "  print(i)"
      ],
      "metadata": {
        "colab": {
          "base_uri": "https://localhost:8080/"
        },
        "id": "7-s4BSt9ZkXE",
        "outputId": "3d2948d7-f7c4-4367-985f-cd5d33f2520e"
      },
      "execution_count": 100,
      "outputs": [
        {
          "output_type": "stream",
          "name": "stdout",
          "text": [
            "the length of number is 4\n",
            "1\n",
            "2\n",
            "3\n",
            "4\n"
          ]
        }
      ]
    },
    {
      "cell_type": "code",
      "source": [
        "#combining lists\n",
        "list1 = [1, 2, 3, 5]\n",
        "list2 = [7, 11, 13, 17]\n",
        "list3 = [19, 23, 27, 29]\n",
        "\n",
        "lists = [list1,list2,list3]\n",
        "\n",
        "print(lists[2])"
      ],
      "metadata": {
        "colab": {
          "base_uri": "https://localhost:8080/"
        },
        "id": "kHUoAo0Oa0lW",
        "outputId": "c8377734-e8fb-41d8-f479-c5ee8c462ffb"
      },
      "execution_count": 102,
      "outputs": [
        {
          "output_type": "stream",
          "name": "stdout",
          "text": [
            "[19, 23, 27, 29]\n"
          ]
        }
      ]
    },
    {
      "cell_type": "markdown",
      "source": [
        "# Using loop to combine the **lists** **bold text**"
      ],
      "metadata": {
        "id": "qRAeUB9mbaMh"
      }
    },
    {
      "cell_type": "code",
      "source": [
        "for z in lists:\n",
        "  print(z)"
      ],
      "metadata": {
        "colab": {
          "base_uri": "https://localhost:8080/"
        },
        "id": "9vdlEVZ2bix2",
        "outputId": "2d60e90a-a22e-4eae-ad1a-b98fa0ec6247"
      },
      "execution_count": 103,
      "outputs": [
        {
          "output_type": "stream",
          "name": "stdout",
          "text": [
            "[1, 2, 3, 5]\n",
            "[7, 11, 13, 17]\n",
            "[19, 23, 27, 29]\n"
          ]
        }
      ]
    },
    {
      "cell_type": "markdown",
      "source": [
        "# turples"
      ],
      "metadata": {
        "id": "JsvzxFuLcj3Y"
      }
    },
    {
      "cell_type": "code",
      "source": [
        "t = (1,2,3)\n",
        "#print(t)\n",
        "#you cant change them... maybe doing it this way\n",
        "t =  t +(12,)\n",
        "print(t)"
      ],
      "metadata": {
        "colab": {
          "base_uri": "https://localhost:8080/"
        },
        "id": "46ba8WZdcnOg",
        "outputId": "c7eda785-a441-4531-8463-584749ac1c71"
      },
      "execution_count": 106,
      "outputs": [
        {
          "output_type": "stream",
          "name": "stdout",
          "text": [
            "(1, 2, 3, 12)\n"
          ]
        }
      ]
    },
    {
      "cell_type": "markdown",
      "source": [
        "# sets"
      ],
      "metadata": {
        "id": "FzyAeHMqdkEM"
      }
    },
    {
      "cell_type": "code",
      "source": [
        "#unordered elements without duplicates\n",
        "\n",
        "s = {1,4,4,6,7}\n",
        "#print(s)\n",
        "\n",
        "#checking if 5 is in the set\n",
        "print(4 in s)\n",
        "\n",
        "#adding elements in a set\n",
        "s.add(23)\n",
        "print(s)\n",
        "\n",
        "for i in s:\n",
        "  print(i)"
      ],
      "metadata": {
        "colab": {
          "base_uri": "https://localhost:8080/"
        },
        "id": "GMH96-uDcZ1n",
        "outputId": "6c8d6447-e294-4b3a-8a79-fcf5bebfc431"
      },
      "execution_count": 113,
      "outputs": [
        {
          "output_type": "stream",
          "name": "stdout",
          "text": [
            "True\n",
            "{1, 4, 6, 7, 23}\n",
            "1\n",
            "4\n",
            "6\n",
            "7\n",
            "23\n"
          ]
        }
      ]
    },
    {
      "cell_type": "markdown",
      "source": [
        "# Dictionaries"
      ],
      "metadata": {
        "id": "IYI7paRIe_GG"
      }
    },
    {
      "cell_type": "code",
      "source": [
        "#Dictionationaries map keys to numbers\n",
        "\n",
        "dict= {\n",
        "    \"joel\":22,\n",
        "    \"john\":12\n",
        "}\n",
        "\n",
        "\n",
        "#Accessing the value by its key\n",
        "print(dict[\"joel\"])\n",
        "print(dict[\"john\"])\n",
        "\n",
        "#to check if the key is in the dictionary\n",
        "\n",
        "if 'joel' in dict:\n",
        "  print(\"joel is in the dictionary as \"+ str(dict[\"joel\"]))\n",
        "else:\n",
        "  print(\"null\")"
      ],
      "metadata": {
        "colab": {
          "base_uri": "https://localhost:8080/"
        },
        "id": "_KxgdlXBfCKv",
        "outputId": "7ea3b232-0634-4ff2-9f54-a44a35f73339"
      },
      "execution_count": 124,
      "outputs": [
        {
          "output_type": "stream",
          "name": "stdout",
          "text": [
            "22\n",
            "12\n",
            "joel is in the dictionary as 22\n"
          ]
        }
      ]
    },
    {
      "cell_type": "markdown",
      "source": [
        "# List comprehensions"
      ],
      "metadata": {
        "id": "ipM-pIadiUaB"
      }
    },
    {
      "cell_type": "code",
      "source": [
        "li = [2,3,4,5,6,7]\n",
        "li.sort()\n",
        "print(li)"
      ],
      "metadata": {
        "colab": {
          "base_uri": "https://localhost:8080/"
        },
        "id": "mGb8M2MIiWbX",
        "outputId": "093139b7-2b25-48d4-eaab-9d2c851d3afe"
      },
      "execution_count": 128,
      "outputs": [
        {
          "output_type": "stream",
          "name": "stdout",
          "text": [
            "[2, 3, 4, 5, 6, 7]\n"
          ]
        }
      ]
    },
    {
      "cell_type": "code",
      "source": [
        "#Suppose we want to create another list\n",
        "#where all the elements of the original list are squared. For that we can use a for loop:\n",
        "sq = []\n",
        "for i in li:\n",
        "  q = i*i\n",
        "  sq.append(q)\n",
        "  print(q)"
      ],
      "metadata": {
        "colab": {
          "base_uri": "https://localhost:8080/"
        },
        "id": "eOl7gbfljc7H",
        "outputId": "897eef7c-4ff8-4e4f-ec5e-8751c8c83021"
      },
      "execution_count": 138,
      "outputs": [
        {
          "output_type": "stream",
          "name": "stdout",
          "text": [
            "4\n",
            "9\n",
            "16\n",
            "25\n",
            "36\n",
            "49\n"
          ]
        }
      ]
    },
    {
      "cell_type": "markdown",
      "source": [
        "# Organizing your code\n",
        "# FUNCTIONS"
      ],
      "metadata": {
        "id": "mo2i1h2klkYF"
      }
    },
    {
      "cell_type": "code",
      "source": [
        "max =10\n",
        "def maximum_no(max):\n",
        "  for i in range(max +1):\n",
        "    print(i)\n",
        "\n",
        "maximum_no(10)"
      ],
      "metadata": {
        "colab": {
          "base_uri": "https://localhost:8080/"
        },
        "id": "5ecsSWwrlpod",
        "outputId": "35c1b0d4-5c94-4ce2-dcc6-46714d118964"
      },
      "execution_count": 152,
      "outputs": [
        {
          "output_type": "stream",
          "name": "stdout",
          "text": [
            "0\n",
            "1\n",
            "2\n",
            "3\n",
            "4\n",
            "5\n",
            "6\n",
            "7\n",
            "8\n",
            "9\n",
            "10\n"
          ]
        }
      ]
    }
  ]
}